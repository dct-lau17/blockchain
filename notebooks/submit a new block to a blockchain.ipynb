{
 "cells": [
  {
   "cell_type": "markdown",
   "metadata": {},
   "source": [
    "# submit a block to a chain\n",
    "same setup as before:"
   ]
  },
  {
   "cell_type": "code",
   "execution_count": 31,
   "metadata": {},
   "outputs": [],
   "source": [
    "import hashlib\n",
    "import urllib\n",
    "from urllib import request\n",
    "import json\n",
    "\n",
    "BASE_URL = 'http://jumblesale.localhost.run'\n",
    "\n",
    "def pretty_print(data: object) -> None:\n",
    "    print(json.dumps(data, indent=4))\n",
    "\n",
    "\n",
    "def hash_dict(x: dict) -> str:\n",
    "    string = json.dumps(x, sort_keys=True).encode()\n",
    "    return hashlib.sha256(string).hexdigest()\n",
    "\n",
    "\n",
    "def get_chain() -> dict:\n",
    "    data = get_json_from_url('{}/chain'.format(BASE_URL))\n",
    "    return data"
   ]
  },
  {
   "cell_type": "markdown",
   "metadata": {},
   "source": [
    "## sending the new block\n",
    "we'll need a method to `POST` the block to the endpoint. the endpoint lives at `/block`. we can post by using:"
   ]
  },
  {
   "cell_type": "code",
   "execution_count": 32,
   "metadata": {},
   "outputs": [],
   "source": [
    "def post_data_to_url(url: str, data: dict):\n",
    "    # str.encode() will turn the data into bytes which we need for transmitting\n",
    "    req =  request.Request(url, data=json.dumps(data).encode(), headers={'content-type': 'application/json'})\n",
    "    return request.urlopen(req)\n",
    "\n",
    "    \n",
    "def post_block(block: dict) -> str:\n",
    "    return post_data_to_url('{}/block'.format(BASE_URL), block).read().decode('utf-8')"
   ]
  },
  {
   "cell_type": "markdown",
   "metadata": {},
   "source": [
    "## creating a new block\n",
    "to create a new block, the server requires us to supply the hash of the last block in the chain. all we need to do is fill in the `create_hash_of_last_block` method and we can add blocks to the chain!"
   ]
  },
  {
   "cell_type": "code",
   "execution_count": 35,
   "metadata": {},
   "outputs": [
    {
     "name": "stdout",
     "output_type": "stream",
     "text": [
      "{\n",
      "    \"errors\": [\n",
      "        \"\\\"previous_hash\\\" cannot be empty\"\n",
      "    ]\n",
      "}\n"
     ]
    }
   ],
   "source": [
    "def create_hash_of_last_block() -> str:\n",
    "    # get the last block from the server, hash it and return the hash\n",
    "    return ''\n",
    "\n",
    "new_block = {\n",
    "\t\"previous_hash\": create_hash_of_last_block(),\n",
    "\t\"message\": \"<your message goes here>\"\n",
    "}\n",
    "\n",
    "try:\n",
    "    response = post_block(new_block)\n",
    "    pretty_print(json.loads(response))\n",
    "# if the request is incorrect, urllib will throw a HTTPError. get the details\n",
    "except urllib.error.HTTPError as error:\n",
    "    pretty_print(json.loads(error.read().decode('utf-8')))\n"
   ]
  },
  {
   "cell_type": "code",
   "execution_count": null,
   "metadata": {},
   "outputs": [],
   "source": []
  }
 ],
 "metadata": {
  "kernelspec": {
   "display_name": "Python 3",
   "language": "python",
   "name": "python3"
  },
  "language_info": {
   "codemirror_mode": {
    "name": "ipython",
    "version": 3
   },
   "file_extension": ".py",
   "mimetype": "text/x-python",
   "name": "python",
   "nbconvert_exporter": "python",
   "pygments_lexer": "ipython3",
   "version": "3.5.2"
  }
 },
 "nbformat": 4,
 "nbformat_minor": 2
}
