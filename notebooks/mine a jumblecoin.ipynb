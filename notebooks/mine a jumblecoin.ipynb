{
 "cells": [
  {
   "cell_type": "markdown",
   "metadata": {},
   "source": [
    "# mine a jumblecoin\n",
    "first the setup:"
   ]
  },
  {
   "cell_type": "code",
   "execution_count": 2,
   "metadata": {},
   "outputs": [],
   "source": [
    "import hashlib\n",
    "from urllib import request\n",
    "import urllib\n",
    "import json\n",
    "\n",
    "BASE_URL = 'http://jumblesale.localhost.run'\n",
    "\n",
    "\n",
    "def pretty_print(data: object) -> None:\n",
    "    print(json.dumps(data, indent=4))\n",
    "\n",
    "\n",
    "def hash_dict(x: dict) -> str:\n",
    "    string = json.dumps(x, sort_keys=True).encode()\n",
    "    return hashlib.sha256(string).hexdigest()\n",
    "\n",
    "\n",
    "def get_chain() -> dict:\n",
    "    data = get_json_from_url('{}/chain'.format(BASE_URL))\n",
    "    return data\n",
    "\n",
    "\n",
    "def get_json_from_url(url: str) -> dict:\n",
    "    with urllib.request.urlopen(url) as response:\n",
    "        response_data = json.loads(response.read().decode('utf-8'))\n",
    "        return response_data\n",
    "\n",
    "\n",
    "def post_data_to_url(url: str, data: dict):\n",
    "    # str.encode() will turn the data into bytes which we need for transmitting\n",
    "    req = request.Request(url, data=json.dumps(data).encode(), headers={'content-type': 'application/json'})\n",
    "    return request.urlopen(req)\n",
    "\n",
    "\n",
    "def post_block(block: dict) -> str:\n",
    "    return post_data_to_url('{}/block'.format(BASE_URL), block).read().decode('utf-8')\n",
    "\n",
    "\n",
    "def get_last_block() -> dict:\n",
    "    return get_json_from_url('{}/last_block'.format(BASE_URL))"
   ]
  },
  {
   "cell_type": "markdown",
   "metadata": {},
   "source": [
    "## hashing a proof\n",
    "we need a method to perform the hashing. `hash_proof` will give us the sha_256 hash of two numbers which will allow us to tell if our input, hashed with the last proof, produces a valid hash."
   ]
  },
  {
   "cell_type": "code",
   "execution_count": 3,
   "metadata": {},
   "outputs": [],
   "source": [
    "def hash_proof(last_proof: int, proof:int) -> str:\n",
    "    \"\"\"\n",
    "    produce a sha_256 digest of the hash of the two numbers\n",
    "    :param last_proof: the last proof in the chain\n",
    "    :param proof: your generated proof\n",
    "    :return: the hex digest\n",
    "    \"\"\"\n",
    "    return hashlib \\\n",
    "        .sha256((str(last_proof) + str(proof)).encode()) \\\n",
    "        .hexdigest()"
   ]
  },
  {
   "cell_type": "markdown",
   "metadata": {},
   "source": [
    "## creating a block\n",
    "this method will allow us to create a block. it relies on us providing a proper implementation for the `proof_of_work` method, listed below:"
   ]
  },
  {
   "cell_type": "code",
   "execution_count": 4,
   "metadata": {},
   "outputs": [],
   "source": [
    "def create_new_block(recipient: str) -> dict:\n",
    "    \"\"\"\n",
    "    create a block to send to the chain\n",
    "    :param recipient: your name\n",
    "    :return: a dict containing all the data the chain needs to add a new block\n",
    "    \"\"\"\n",
    "    last_block = get_last_block()\n",
    "    previous_hash = hash_dict(last_block)\n",
    "    proof = proof_of_work(last_block['proof'])\n",
    "    return {\n",
    "        'previous_hash': previous_hash,\n",
    "        'proof': proof,\n",
    "        'recipient': recipient\n",
    "    }"
   ]
  },
  {
   "cell_type": "markdown",
   "metadata": {},
   "source": [
    "## creating a proof of work\n",
    "this is the method which needs your attention! `PROOF_OF_WORK_COST` provides the number of trailing `0`s we're looking for in the hash. the implementation of `proof_of_work` needs to keep trying hashes until it finds an `x` such that `hash_proof(x, last_proof)` gives a hash which ends in `000`."
   ]
  },
  {
   "cell_type": "code",
   "execution_count": 20,
   "metadata": {},
   "outputs": [],
   "source": [
    "PROOF_OF_WORK_COST = 3\n",
    "\n",
    "def proof_of_work(last_proof_of_work) -> int:\n",
    "    \"\"\"\n",
    "    return a number which, when concatenated by the last_proof_of_work,\n",
    "    will hash to produce a string ending in 3 '0's\n",
    "\n",
    "    example: if the last proof of work was 2256\n",
    "    :param last_proof_of_work: the proof of work from the last block in the chain\n",
    "    :return: a number, x, where hash_number(last_proof_of_work * x) ends in '000'\n",
    "    \"\"\"\n",
    "    x = 5137\n",
    "    hashed_proof = hash_proof(last_proof_of_work, x)\n",
    "    # this should end in 000\n",
    "    print('hash of {} and {} is {}'.format(last_proof_of_work, x, hashed_proof))\n",
    "    return x"
   ]
  },
  {
   "cell_type": "markdown",
   "metadata": {},
   "source": [
    "## running it\n",
    "finally we invoke our `create_new_block` method. make sure to replace the argument with your name so we can see who mined the block! the `except` clause deals with the web server returning an error - if the proof of work is not valid it will appear here."
   ]
  },
  {
   "cell_type": "code",
   "execution_count": 22,
   "metadata": {},
   "outputs": [
    {
     "name": "stdout",
     "output_type": "stream",
     "text": [
      "hash of 5347 and 5137 is d7f5b3e943c9241aa0fb52796280821b81c61122bfc11f3edf4fe1a4b92ff000\n",
      "{\n",
      "    \"blocks\": [\n",
      "        {\n",
      "            \"data\": \"{\\\"name\\\": \\\"jumblesale\\\", \\\"value\\\": 100}\",\n",
      "            \"previous_hash\": null,\n",
      "            \"timestamp\": 1524343126.731536,\n",
      "            \"index\": 0,\n",
      "            \"proof\": 0\n",
      "        },\n",
      "        {\n",
      "            \"data\": \"{\\\"name\\\": \\\"bob\\\", \\\"value\\\": 1}\",\n",
      "            \"previous_hash\": \"4794b4a613f7624f0efd41554294dcff030233483c6d2e7b1d6b74a8de5304d5\",\n",
      "            \"timestamp\": 1524343126.744977,\n",
      "            \"index\": 1,\n",
      "            \"proof\": 5735\n",
      "        },\n",
      "        {\n",
      "            \"data\": \"{\\\"name\\\": \\\"alice\\\", \\\"value\\\": 1}\",\n",
      "            \"previous_hash\": \"62238b6b6e869ca5b20f63ca046f0e50ec32145d49f22e9699c6369da282593b\",\n",
      "            \"timestamp\": 1524343126.746572,\n",
      "            \"index\": 2,\n",
      "            \"proof\": 626\n",
      "        },\n",
      "        {\n",
      "            \"data\": \"{\\\"name\\\": \\\"<YOUR NAME HERE>\\\", \\\"value\\\": 1}\",\n",
      "            \"previous_hash\": \"82a2bf94ce44c179df7af31ea6502ec3ea895ed4159d5e179316bfea8b8ebc7f\",\n",
      "            \"timestamp\": 1524343166.63373,\n",
      "            \"index\": 3,\n",
      "            \"proof\": 446\n",
      "        },\n",
      "        {\n",
      "            \"data\": \"{\\\"name\\\": \\\"<YOUR NAME HERE>\\\", \\\"value\\\": 1}\",\n",
      "            \"previous_hash\": \"f1d5186ed0a9cc2e5e9e559a413335ad65c3ad07c5b3a8540838c380043568b1\",\n",
      "            \"timestamp\": 1524343293.9259741,\n",
      "            \"index\": 4,\n",
      "            \"proof\": 5347\n",
      "        },\n",
      "        {\n",
      "            \"data\": \"{\\\"name\\\": \\\"<YOUR NAME HERE>\\\", \\\"value\\\": 1}\",\n",
      "            \"previous_hash\": \"5c42f4bb4e5cda8831b32c55266855e5c08a3ca5db99113910966ba1d52e1b0c\",\n",
      "            \"timestamp\": 1524343341.642754,\n",
      "            \"index\": 5,\n",
      "            \"proof\": 5137\n",
      "        }\n",
      "    ]\n",
      "}\n"
     ]
    }
   ],
   "source": [
    "try:\n",
    "    new_block = create_new_block('<YOUR NAME HERE>')\n",
    "    response = post_block(new_block)\n",
    "    print('___success!___')\n",
    "    pretty_print(json.loads(response))\n",
    "# if the request is incorrect, urllib will throw a HTTPError. get the details\n",
    "except urllib.error.HTTPError as error:\n",
    "    print('___request failed!___')\n",
    "    pretty_print(json.loads(error.read().decode()))"
   ]
  },
  {
   "cell_type": "code",
   "execution_count": null,
   "metadata": {},
   "outputs": [],
   "source": []
  }
 ],
 "metadata": {
  "kernelspec": {
   "display_name": "Python 3",
   "language": "python",
   "name": "python3"
  },
  "language_info": {
   "codemirror_mode": {
    "name": "ipython",
    "version": 3
   },
   "file_extension": ".py",
   "mimetype": "text/x-python",
   "name": "python",
   "nbconvert_exporter": "python",
   "pygments_lexer": "ipython3",
   "version": "3.5.2"
  }
 },
 "nbformat": 4,
 "nbformat_minor": 2
}
