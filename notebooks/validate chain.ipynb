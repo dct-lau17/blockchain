{
 "cells": [
  {
   "cell_type": "markdown",
   "metadata": {},
   "source": [
    "# validate a blockchain"
   ]
  },
  {
   "cell_type": "markdown",
   "metadata": {},
   "source": [
    "## import the modules we'll be using\n"
   ]
  },
  {
   "cell_type": "code",
   "execution_count": 39,
   "metadata": {},
   "outputs": [],
   "source": [
    "import hashlib\n",
    "import urllib.request\n",
    "import json"
   ]
  },
  {
   "cell_type": "markdown",
   "metadata": {},
   "source": [
    "the website is being served from this base url:"
   ]
  },
  {
   "cell_type": "code",
   "execution_count": 40,
   "metadata": {},
   "outputs": [],
   "source": [
    "BASE_URL = 'http://jumblesale.localhost.run'"
   ]
  },
  {
   "cell_type": "markdown",
   "metadata": {},
   "source": [
    "## pretty print a json object\n",
    "this is helpful for debugging."
   ]
  },
  {
   "cell_type": "code",
   "execution_count": 41,
   "metadata": {},
   "outputs": [],
   "source": [
    "def pretty_print(data: object) -> None:\n",
    "    print(json.dumps(data, indent=4))"
   ]
  },
  {
   "cell_type": "markdown",
   "metadata": {},
   "source": [
    "## hash an object\n",
    "given a python object, this method will turn it into a string and produce a hexadecimal representation of the dict's hash. this is the same process which the blockchain is using to store the `'previous_hash'` property. we can use this method to validate if the hashes in the chain are correct."
   ]
  },
  {
   "cell_type": "code",
   "execution_count": 42,
   "metadata": {
    "scrolled": true
   },
   "outputs": [
    {
     "name": "stdout",
     "output_type": "stream",
     "text": [
      "b6b9eb45395b098d2d5c84ee1dc566c9016a5a5a84d716a7df40d2795892b69a\n"
     ]
    }
   ],
   "source": [
    "def hash_dict(x: dict) -> str:\n",
    "    string = json.dumps(x, sort_keys=True).encode()\n",
    "    return hashlib.sha256(string).hexdigest()\n",
    "\n",
    "print(hash_dict({'example': 'hello!'}))"
   ]
  },
  {
   "cell_type": "markdown",
   "metadata": {},
   "source": [
    "## get a json response from a url\n",
    "This method will do a http `GET` request to the website and return the data as a python object:"
   ]
  },
  {
   "cell_type": "code",
   "execution_count": 43,
   "metadata": {},
   "outputs": [],
   "source": [
    "def get_json_from_url(url: str) -> dict:\n",
    "    with urllib.request.urlopen(url) as response:\n",
    "        response_data = json.loads(response.read().decode('utf-8'))\n",
    "        return response_data"
   ]
  },
  {
   "cell_type": "markdown",
   "metadata": {},
   "source": [
    "## get the entire chain\n",
    "this will make a GET request to the endpoint `/chain` which serves the entire chain and assign it to the `chain` variable."
   ]
  },
  {
   "cell_type": "code",
   "execution_count": 44,
   "metadata": {},
   "outputs": [
    {
     "name": "stdout",
     "output_type": "stream",
     "text": [
      "{\n",
      "    \"blocks\": [\n",
      "        {\n",
      "            \"index\": 0,\n",
      "            \"timestamp\": 1524229302.7849689,\n",
      "            \"previous_hash\": null,\n",
      "            \"data\": \"genesis block\"\n",
      "        },\n",
      "        {\n",
      "            \"index\": 1,\n",
      "            \"timestamp\": 1524229302.785044,\n",
      "            \"previous_hash\": \"e4c98b0a3edfbfb1efc6c74b5a60a3e6468840ffcc4d1cd7de058d5e31ce1e2a\",\n",
      "            \"data\": \"bob sends $4 to alice\"\n",
      "        },\n",
      "        {\n",
      "            \"index\": 2,\n",
      "            \"timestamp\": 1524229302.785068,\n",
      "            \"previous_hash\": \"61551091e2a58a8d5028715a78ec8a29d91e451f67981fb0fc6818e32e81e012\",\n",
      "            \"data\": \"alice send $3 to bob\"\n",
      "        },\n",
      "        {\n",
      "            \"index\": 3,\n",
      "            \"timestamp\": 1524229302.7850702,\n",
      "            \"previous_hash\": \"b6b9eb45395b098d2d5c84ee1dc566c9016a5a5a84d716a7df40d2795892b69a\",\n",
      "            \"data\": \"bob sends $100 to charles\"\n",
      "        },\n",
      "        {\n",
      "            \"index\": 4,\n",
      "            \"timestamp\": 1524229302.7850869,\n",
      "            \"previous_hash\": \"ac098d1cf156c5c5dbd746b08941b12a2ad68cc20408a02c2792b1f4845eec67\",\n",
      "            \"data\": \"alice sends $1 to bob\"\n",
      "        }\n",
      "    ]\n",
      "}\n"
     ]
    }
   ],
   "source": [
    "def get_chain() -> dict:\n",
    "    data = get_json_from_url('{}/chain'.format(BASE_URL))\n",
    "    return data\n",
    "\n",
    "chain = get_chain()\n",
    "pretty_print(chain)"
   ]
  },
  {
   "cell_type": "markdown",
   "metadata": {},
   "source": [
    "## validate\n",
    "to validate the chain, we need to check that every `'previous_hash'` is actually the hash of the previous block. to do this, we will need to hash every block beginning with the genesis block, and check that hash against what is stored in the chain."
   ]
  },
  {
   "cell_type": "code",
   "execution_count": 45,
   "metadata": {},
   "outputs": [
    {
     "name": "stdout",
     "output_type": "stream",
     "text": [
      "None\n"
     ]
    }
   ],
   "source": [
    "def validate(chain):\n",
    "    # what needs to happen here?\n",
    "    pass\n",
    "    \n",
    "validate(chain)"
   ]
  }
 ],
 "metadata": {
  "kernelspec": {
   "display_name": "Python 3",
   "language": "python",
   "name": "python3"
  },
  "language_info": {
   "codemirror_mode": {
    "name": "ipython",
    "version": 3
   },
   "file_extension": ".py",
   "mimetype": "text/x-python",
   "name": "python",
   "nbconvert_exporter": "python",
   "pygments_lexer": "ipython3",
   "version": "3.5.2"
  }
 },
 "nbformat": 4,
 "nbformat_minor": 2
}
